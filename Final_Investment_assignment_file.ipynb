{
 "cells": [
  {
   "cell_type": "code",
   "execution_count": 2,
   "metadata": {},
   "outputs": [
    {
     "name": "stdout",
     "output_type": "stream",
     "text": [
      "0                                      /Organization/-Fame\n",
      "1                                   /Organization/-Qounter\n",
      "2                      /Organization/-The-One-Of-Them-Inc-\n",
      "3                                    /Organization/0-6-Com\n",
      "4                           /Organization/004-Technologies\n",
      "                               ...                        \n",
      "66363    /Organization/Zznode-Science-And-Technology-Co...\n",
      "66364                            /Organization/Zzzzapp-Com\n",
      "66365                               /Organization/ÃÂEron\n",
      "66366                            /Organization/ÃâAsys-2\n",
      "66367    /Organization/ÃÂ°Novatiff-Reklam-Ve-TanÃ¤Â±TÃ...\n",
      "Name: permalink, Length: 66368, dtype: object\n",
      "                             permalink                    name  \\\n",
      "0                  /Organization/-Fame                   #fame   \n",
      "1               /Organization/-Qounter                :Qounter   \n",
      "2  /Organization/-The-One-Of-Them-Inc-  (THE) ONE of THEM,Inc.   \n",
      "3                /Organization/0-6-Com                 0-6.com   \n",
      "4       /Organization/004-Technologies        004 Technologies   \n",
      "\n",
      "                        homepage_url  \\\n",
      "0                 http://livfame.com   \n",
      "1             http://www.qounter.com   \n",
      "2                http://oneofthem.jp   \n",
      "3                 http://www.0-6.com   \n",
      "4  http://004gmbh.de/en/004-interact   \n",
      "\n",
      "                                       category_list     status country_code  \\\n",
      "0                                              Media  operating          IND   \n",
      "1  Application Platforms|Real Time|Social Network...  operating          USA   \n",
      "2                                  Apps|Games|Mobile  operating          NaN   \n",
      "3                                        Curated Web  operating          CHN   \n",
      "4                                           Software  operating          USA   \n",
      "\n",
      "  state_code                 region           city  founded_at  \n",
      "0         16                 Mumbai         Mumbai         NaN  \n",
      "1         DE             DE - Other  Delaware City  04-09-2014  \n",
      "2        NaN                    NaN            NaN         NaN  \n",
      "3         22                Beijing        Beijing  01-01-2007  \n",
      "4         IL  Springfield, Illinois      Champaign  01-01-2010  \n",
      "                             permalink                    name  \\\n",
      "0                  /Organization/-Fame                   #fame   \n",
      "1               /Organization/-Qounter                :Qounter   \n",
      "2  /Organization/-The-One-Of-Them-Inc-  (THE) ONE of THEM,Inc.   \n",
      "3                /Organization/0-6-Com                 0-6.com   \n",
      "4       /Organization/004-Technologies        004 Technologies   \n",
      "\n",
      "                        homepage_url  \\\n",
      "0                 http://livfame.com   \n",
      "1             http://www.qounter.com   \n",
      "2                http://oneofthem.jp   \n",
      "3                 http://www.0-6.com   \n",
      "4  http://004gmbh.de/en/004-interact   \n",
      "\n",
      "                                       category_list     status country_code  \\\n",
      "0                                              Media  operating          IND   \n",
      "1  Application Platforms|Real Time|Social Network...  operating          USA   \n",
      "2                                  Apps|Games|Mobile  operating          NaN   \n",
      "3                                        Curated Web  operating          CHN   \n",
      "4                                           Software  operating          USA   \n",
      "\n",
      "  state_code                 region           city  founded_at  \n",
      "0         16                 Mumbai         Mumbai         NaN  \n",
      "1         DE             DE - Other  Delaware City  04-09-2014  \n",
      "2        NaN                    NaN            NaN         NaN  \n",
      "3         22                Beijing        Beijing  01-01-2007  \n",
      "4         IL  Springfield, Illinois      Champaign  01-01-2010  \n",
      "                     company_permalink  \\\n",
      "0                  /organization/-fame   \n",
      "1               /ORGANIZATION/-QOUNTER   \n",
      "2               /organization/-qounter   \n",
      "3  /ORGANIZATION/-THE-ONE-OF-THEM-INC-   \n",
      "4                /organization/0-6-com   \n",
      "\n",
      "                           funding_round_permalink funding_round_type  \\\n",
      "0  /funding-round/9a01d05418af9f794eebff7ace91f638            venture   \n",
      "1  /funding-round/22dacff496eb7acb2b901dec1dfe5633            venture   \n",
      "2  /funding-round/b44fbb94153f6cdef13083530bb48030               seed   \n",
      "3  /funding-round/650b8f704416801069bb178a1418776b            venture   \n",
      "4  /funding-round/5727accaeaa57461bd22a9bdd945382d            venture   \n",
      "\n",
      "  funding_round_code   funded_at  raised_amount_usd  \n",
      "0                  B  05-01-2015         10000000.0  \n",
      "1                  A  14-10-2014                NaN  \n",
      "2                NaN  01-03-2014           700000.0  \n",
      "3                  B  30-01-2014          3406878.0  \n",
      "4                  A  19-03-2008          2000000.0  \n",
      "                     company_permalink  \\\n",
      "0                  /organization/-fame   \n",
      "1               /ORGANIZATION/-QOUNTER   \n",
      "2               /organization/-qounter   \n",
      "3  /ORGANIZATION/-THE-ONE-OF-THEM-INC-   \n",
      "4                /organization/0-6-com   \n",
      "\n",
      "                           funding_round_permalink funding_round_type  \\\n",
      "0  /funding-round/9a01d05418af9f794eebff7ace91f638            venture   \n",
      "1  /funding-round/22dacff496eb7acb2b901dec1dfe5633            venture   \n",
      "2  /funding-round/b44fbb94153f6cdef13083530bb48030               seed   \n",
      "3  /funding-round/650b8f704416801069bb178a1418776b            venture   \n",
      "4  /funding-round/5727accaeaa57461bd22a9bdd945382d            venture   \n",
      "\n",
      "  funding_round_code   funded_at  raised_amount_usd  \n",
      "0                  B  05-01-2015         10000000.0  \n",
      "1                  A  14-10-2014                NaN  \n",
      "2                NaN  01-03-2014           700000.0  \n",
      "3                  B  30-01-2014          3406878.0  \n",
      "4                  A  19-03-2008          2000000.0  \n"
     ]
    }
   ],
   "source": [
    "import pandas as pd\n",
    "import numpy as np\n",
    "\n",
    "companies=pd.read_csv(r'C:\\Users\\rpatil\\Desktop\\python\\ML&AI_NOTES\\companies.csv',encoding='ISO-8859-1')\n",
    "print (companies['permalink'])\n",
    "print (companies.head())\n",
    "companies.permalink = companies.permalink.str.encode('ISO-8859-1').str.decode('ascii', 'ignore')\n",
    "companies.name = companies.name.str.encode('ISO-8859-1').str.decode('ascii', 'ignore')\n",
    "print (companies.head())\n",
    "\n",
    "rounds2=pd.read_csv(r'C:\\Users\\rpatil\\Desktop\\python\\ML&AI_NOTES\\rounds2.csv',header=0,encoding = 'ISO-8859-1')\n",
    "print (rounds2.head())\n",
    "rounds2.company_permalink = rounds2.company_permalink.str.encode('ISO-8859-1').str.decode('ascii', 'ignore')\n",
    "print (rounds2.head())"
   ]
  },
  {
   "cell_type": "code",
   "execution_count": 4,
   "metadata": {},
   "outputs": [
    {
     "name": "stdout",
     "output_type": "stream",
     "text": [
      "data presrnt in rounds2 66368\n",
      "data present in companies 66368\n"
     ]
    },
    {
     "data": {
      "text/plain": [
       "count                        66368\n",
       "unique                       66368\n",
       "top       /organization/stocktwits\n",
       "freq                             1\n",
       "Name: permalink, dtype: object"
      ]
     },
     "execution_count": 4,
     "metadata": {},
     "output_type": "execute_result"
    }
   ],
   "source": [
    "#task 1 code starts from here\n",
    "#How many unique companies are present in rounds2?   66370\n",
    "\n",
    "rounds2['company_permalink'] = rounds2['company_permalink'].str.lower()\n",
    "print(\"data presrnt in rounds2\",len(rounds2['company_permalink'].unique()))\n",
    "\n",
    "#Reconfirming -about the clarifications using describe\n",
    "rounds2['company_permalink'].str.lower().describe()\n",
    "\n",
    "\n",
    "# How many unique companies are present in companies?\n",
    "companies['permalink'] = companies['permalink'].str.lower()\n",
    "print(\"data present in companies\",len(companies['permalink'].unique()))\n",
    "\n",
    "#Reconfirming - about the calculations using describe\n",
    "companies['permalink'].str.lower().describe()\n"
   ]
  },
  {
   "cell_type": "code",
   "execution_count": 5,
   "metadata": {},
   "outputs": [
    {
     "name": "stdout",
     "output_type": "stream",
     "text": [
      "True\n"
     ]
    },
    {
     "data": {
      "text/plain": [
       "set()"
      ]
     },
     "execution_count": 5,
     "metadata": {},
     "output_type": "execute_result"
    }
   ],
   "source": [
    "#Are there any companies in the rounds2 file which are not present in companies?\n",
    "round_temp = pd.DataFrame(rounds2.company_permalink.unique())\n",
    "comp_temp = pd.DataFrame(companies.permalink.unique())\n",
    "print (comp_temp.equals(round_temp))\n",
    "\n",
    "set(companies['permalink'].unique()).difference(set(rounds2['company_permalink'].unique()))\n",
    "\n"
   ]
  },
  {
   "cell_type": "code",
   "execution_count": 74,
   "metadata": {},
   "outputs": [
    {
     "name": "stdout",
     "output_type": "stream",
     "text": [
      "count in master data frame 114949\n",
      "0                  venture\n",
      "1                  venture\n",
      "2                     seed\n",
      "3                  venture\n",
      "4                  venture\n",
      "                ...       \n",
      "114944    convertible_note\n",
      "114945                seed\n",
      "114946             venture\n",
      "114947                seed\n",
      "114948               grant\n",
      "Name: funding_round_type, Length: 114949, dtype: object\n",
      "       raised_amount_usd\n",
      "count       9.495900e+04\n",
      "mean        1.042687e+07\n",
      "std         1.148212e+08\n",
      "min         0.000000e+00\n",
      "25%         3.225000e+05\n",
      "50%         1.680511e+06\n",
      "75%         7.000000e+06\n",
      "max         2.127194e+10\n"
     ]
    }
   ],
   "source": [
    "#Merge the two data frames so that all variables (columns) in the companies frame are added to the rounds2 data frame. Name the merged frame master_frame.\n",
    "master_frame = pd.merge(rounds2, companies, how = 'left', left_on = 'company_permalink', right_on = 'permalink')\n",
    "print (\"count in master data frame\",len(master_frame.index))\n",
    "print (master_frame['funding_round_type'])\n",
    "print (master_frame.describe())"
   ]
  },
  {
   "cell_type": "code",
   "execution_count": 8,
   "metadata": {},
   "outputs": [
    {
     "name": "stdout",
     "output_type": "stream",
     "text": [
      "company_permalink              0\n",
      "funding_round_permalink        0\n",
      "funding_round_type             0\n",
      "funding_round_code         83809\n",
      "funded_at                      0\n",
      "raised_amount_usd          19990\n",
      "permalink                      0\n",
      "name                           1\n",
      "homepage_url                6134\n",
      "category_list               3410\n",
      "status                         0\n",
      "country_code                8678\n",
      "state_code                 10946\n",
      "region                     10167\n",
      "city                       10164\n",
      "founded_at                 20521\n",
      "dtype: int64\n",
      "company_permalink           0.00\n",
      "funding_round_permalink     0.00\n",
      "funding_round_type          0.00\n",
      "funding_round_code         72.91\n",
      "funded_at                   0.00\n",
      "raised_amount_usd          17.39\n",
      "permalink                   0.00\n",
      "name                        0.00\n",
      "homepage_url                5.34\n",
      "category_list               2.97\n",
      "status                      0.00\n",
      "country_code                7.55\n",
      "state_code                  9.52\n",
      "region                      8.84\n",
      "city                        8.84\n",
      "founded_at                 17.85\n",
      "dtype: float64\n"
     ]
    }
   ],
   "source": [
    "#sub task 1.3 cleaning the data by dropping null values and unnecessary columns and rowss\n",
    "data=master_frame.isnull().sum(axis=0)\n",
    "print (data)\n",
    "\n",
    "\n",
    "#checking the Null values percentage , column-wise\n",
    "print(round(100*(master_frame.isnull().sum()/len(master_frame.index)), 2))\n"
   ]
  },
  {
   "cell_type": "code",
   "execution_count": 9,
   "metadata": {},
   "outputs": [
    {
     "name": "stdout",
     "output_type": "stream",
     "text": [
      "                                        company_permalink funding_round_type  \\\n",
      "0                                     /organization/-fame            venture   \n",
      "1                                  /organization/-qounter            venture   \n",
      "2                                  /organization/-qounter               seed   \n",
      "3                     /organization/-the-one-of-them-inc-            venture   \n",
      "4                                   /organization/0-6-com            venture   \n",
      "...                                                   ...                ...   \n",
      "114944                          /organization/zzzzapp-com   convertible_note   \n",
      "114945                          /organization/zzzzapp-com               seed   \n",
      "114946                                 /organization/eron            venture   \n",
      "114947                               /organization/asys-2               seed   \n",
      "114948  /organization/novatiff-reklam-ve-tantm-hizmetl...              grant   \n",
      "\n",
      "        raised_amount_usd                                     name  \\\n",
      "0              10000000.0                                    #fame   \n",
      "1                     NaN                                 :Qounter   \n",
      "2                700000.0                                 :Qounter   \n",
      "3               3406878.0                   (THE) ONE of THEM,Inc.   \n",
      "4               2000000.0                                  0-6.com   \n",
      "...                   ...                                      ...   \n",
      "114944            41313.0                    Zzzzapp Wireless ltd.   \n",
      "114945            32842.0                    Zzzzapp Wireless ltd.   \n",
      "114946                NaN                                     ERON   \n",
      "114947            18192.0                                     asys   \n",
      "114948            14851.0  novatiff Reklam ve Tantm Hizmetleri Tic   \n",
      "\n",
      "                                            category_list country_code  \n",
      "0                                                   Media          IND  \n",
      "1       Application Platforms|Real Time|Social Network...          USA  \n",
      "2       Application Platforms|Real Time|Social Network...          USA  \n",
      "3                                       Apps|Games|Mobile          NaN  \n",
      "4                                             Curated Web          CHN  \n",
      "...                                                   ...          ...  \n",
      "114944        Advertising|Mobile|Web Development|Wireless          HRV  \n",
      "114945        Advertising|Mobile|Web Development|Wireless          HRV  \n",
      "114946                                                NaN          NaN  \n",
      "114947  Consumer Electronics|Internet of Things|Teleco...          USA  \n",
      "114948                 Consumer Goods|E-Commerce|Internet          NaN  \n",
      "\n",
      "[114949 rows x 6 columns]\n"
     ]
    }
   ],
   "source": [
    "#dropping columns other than required data likecompany_permalink,funding_round_type  raised_amount_usd,country_code, category_list etc\n",
    "master_frame = master_frame.drop(['funding_round_code', 'funding_round_permalink', 'funded_at','permalink', 'homepage_url',\n",
    "                                 'state_code', 'region', 'city', 'founded_at','status'], axis = 1)\n",
    "print (master_frame)"
   ]
  },
  {
   "cell_type": "code",
   "execution_count": 10,
   "metadata": {},
   "outputs": [
    {
     "name": "stdout",
     "output_type": "stream",
     "text": [
      "company_permalink      0.00\n",
      "funding_round_type     0.00\n",
      "raised_amount_usd     17.39\n",
      "name                   0.00\n",
      "category_list          2.97\n",
      "country_code           7.55\n",
      "dtype: float64\n"
     ]
    }
   ],
   "source": [
    "#checking the Null values percentage again after deletion, column-wise\n",
    "print(round(100*(master_frame.isnull().sum()/len(master_frame.index)), 2))"
   ]
  },
  {
   "cell_type": "code",
   "execution_count": 11,
   "metadata": {},
   "outputs": [
    {
     "name": "stdout",
     "output_type": "stream",
     "text": [
      "                          company_permalink funding_round_type  \\\n",
      "0                       /organization/-fame            venture   \n",
      "2                    /organization/-qounter               seed   \n",
      "4                     /organization/0-6-com            venture   \n",
      "6          /organization/01games-technology        undisclosed   \n",
      "7       /organization/0ndine-biomedical-inc               seed   \n",
      "...                                     ...                ...   \n",
      "114942            /organization/zzzzapp-com               seed   \n",
      "114943            /organization/zzzzapp-com               seed   \n",
      "114944            /organization/zzzzapp-com   convertible_note   \n",
      "114945            /organization/zzzzapp-com               seed   \n",
      "114947                 /organization/asys-2               seed   \n",
      "\n",
      "        raised_amount_usd                    name  \\\n",
      "0              10000000.0                   #fame   \n",
      "2                700000.0                :Qounter   \n",
      "4               2000000.0                 0-6.com   \n",
      "6                 41250.0      01Games Technology   \n",
      "7                 43360.0  Ondine Biomedical Inc.   \n",
      "...                   ...                     ...   \n",
      "114942             7000.0   Zzzzapp Wireless ltd.   \n",
      "114943            33149.0   Zzzzapp Wireless ltd.   \n",
      "114944            41313.0   Zzzzapp Wireless ltd.   \n",
      "114945            32842.0   Zzzzapp Wireless ltd.   \n",
      "114947            18192.0                    asys   \n",
      "\n",
      "                                            category_list country_code  \n",
      "0                                                   Media          IND  \n",
      "2       Application Platforms|Real Time|Social Network...          USA  \n",
      "4                                             Curated Web          CHN  \n",
      "6                                                   Games          HKG  \n",
      "7                                           Biotechnology          CAN  \n",
      "...                                                   ...          ...  \n",
      "114942        Advertising|Mobile|Web Development|Wireless          HRV  \n",
      "114943        Advertising|Mobile|Web Development|Wireless          HRV  \n",
      "114944        Advertising|Mobile|Web Development|Wireless          HRV  \n",
      "114945        Advertising|Mobile|Web Development|Wireless          HRV  \n",
      "114947  Consumer Electronics|Internet of Things|Teleco...          USA  \n",
      "\n",
      "[88529 rows x 6 columns]\n"
     ]
    }
   ],
   "source": [
    "#dropping unnecessary columns which are  null\n",
    "\n",
    "master_frame = master_frame[~(master_frame['raised_amount_usd'].isnull() | master_frame['country_code'].isnull() |\n",
    "                             master_frame['category_list'].isnull())]\n",
    "print (master_frame)"
   ]
  },
  {
   "cell_type": "code",
   "execution_count": 12,
   "metadata": {},
   "outputs": [
    {
     "name": "stdout",
     "output_type": "stream",
     "text": [
      "venture                  47809\n",
      "seed                     21095\n",
      "debt_financing            6506\n",
      "angel                     4400\n",
      "grant                     1939\n",
      "private_equity            1820\n",
      "undisclosed               1345\n",
      "convertible_note          1320\n",
      "equity_crowdfunding       1128\n",
      "post_ipo_equity            598\n",
      "product_crowdfunding       330\n",
      "post_ipo_debt              151\n",
      "non_equity_assistance       60\n",
      "secondary_market            28\n",
      "Name: funding_round_type, dtype: int64\n"
     ]
    }
   ],
   "source": [
    "#Observing the unique funding_round_type i.e by checking count\n",
    "count=master_frame.funding_round_type.value_counts()\n",
    "print (count)"
   ]
  },
  {
   "cell_type": "code",
   "execution_count": 13,
   "metadata": {},
   "outputs": [
    {
     "name": "stdout",
     "output_type": "stream",
     "text": [
      "                     company_permalink funding_round_type  raised_amount_usd  \\\n",
      "0                  /organization/-fame            venture         10000000.0   \n",
      "2               /organization/-qounter               seed           700000.0   \n",
      "4                /organization/0-6-com            venture          2000000.0   \n",
      "7  /organization/0ndine-biomedical-inc               seed            43360.0   \n",
      "8  /organization/0ndine-biomedical-inc            venture           719491.0   \n",
      "\n",
      "                     name                                      category_list  \\\n",
      "0                   #fame                                              Media   \n",
      "2                :Qounter  Application Platforms|Real Time|Social Network...   \n",
      "4                 0-6.com                                        Curated Web   \n",
      "7  Ondine Biomedical Inc.                                      Biotechnology   \n",
      "8  Ondine Biomedical Inc.                                      Biotechnology   \n",
      "\n",
      "  country_code  \n",
      "0          IND  \n",
      "2          USA  \n",
      "4          CHN  \n",
      "7          CAN  \n",
      "8          CAN  \n"
     ]
    }
   ],
   "source": [
    "#Retaining the rows with only four investment types, filtering it out using them\n",
    "master_frame = master_frame[(master_frame['funding_round_type'] == 'venture')\n",
    "                            | (master_frame['funding_round_type'] == 'seed')\n",
    "                            | (master_frame['funding_round_type'] == 'angel')\n",
    "                            | (master_frame['funding_round_type'] == 'private_equity')]\n",
    "print (master_frame.head())"
   ]
  },
  {
   "cell_type": "code",
   "execution_count": 14,
   "metadata": {},
   "outputs": [
    {
     "name": "stdout",
     "output_type": "stream",
     "text": [
      "                     company_permalink funding_round_type  raised_amount_usd  \\\n",
      "0                  /organization/-fame            venture          10.000000   \n",
      "2               /organization/-qounter               seed           0.700000   \n",
      "4                /organization/0-6-com            venture           2.000000   \n",
      "7  /organization/0ndine-biomedical-inc               seed           0.043360   \n",
      "8  /organization/0ndine-biomedical-inc            venture           0.719491   \n",
      "\n",
      "                     name                                      category_list  \\\n",
      "0                   #fame                                              Media   \n",
      "2                :Qounter  Application Platforms|Real Time|Social Network...   \n",
      "4                 0-6.com                                        Curated Web   \n",
      "7  Ondine Biomedical Inc.                                      Biotechnology   \n",
      "8  Ondine Biomedical Inc.                                      Biotechnology   \n",
      "\n",
      "  country_code  \n",
      "0          IND  \n",
      "2          USA  \n",
      "4          CHN  \n",
      "7          CAN  \n",
      "8          CAN  \n",
      "funding_round_type\n",
      "angel              0.97\n",
      "private_equity    73.94\n",
      "seed               0.75\n",
      "venture           11.72\n",
      "Name: raised_amount_usd, dtype: float64\n"
     ]
    }
   ],
   "source": [
    "#task 2.2 calculting average investment amount for each type of funding\n",
    "\n",
    "#Converting $ to million $ which will be easy for further calculations.\n",
    "master_frame['raised_amount_usd'] = master_frame['raised_amount_usd']/1000000\n",
    "print (master_frame.head())\n",
    "\n",
    "\n",
    "#calculating average investment amount for each of the four funding types.\n",
    "print (round(master_frame.groupby('funding_round_type').raised_amount_usd.mean(), 2))\n",
    "\n",
    "#Retaining rows with only venture type since it occurs in out budget range\n",
    "master_frame = master_frame[master_frame['funding_round_type'] == 'venture']\n",
    "\n",
    "#Dropping the column 'funding_round_type' as it is going to be venture from now\n",
    "master_frame = master_frame.drop(['funding_round_type'], axis = 1)"
   ]
  },
  {
   "cell_type": "code",
   "execution_count": 15,
   "metadata": {},
   "outputs": [
    {
     "name": "stdout",
     "output_type": "stream",
     "text": [
      "              raised_amount_usd\n",
      "country_code                   \n",
      "USA               420068.029342\n",
      "CHN                39338.918773\n",
      "GBR                20072.813004\n",
      "IND                14261.508718\n",
      "CAN                 9482.217668\n",
      "FRA                 7226.851352\n",
      "ISR                 6854.350477\n",
      "DEU                 6306.921981\n",
      "JPN                 3167.647127\n"
     ]
    }
   ],
   "source": [
    "top9 = master_frame.pivot_table(values = 'raised_amount_usd', index = 'country_code', aggfunc = 'sum')\n",
    "top9 = top9.sort_values(by = 'raised_amount_usd', ascending = False)\n",
    "top9 = top9.iloc[:9, ]  #using iloc we can extract the data based on index number \n",
    "print (top9)"
   ]
  },
  {
   "cell_type": "code",
   "execution_count": 16,
   "metadata": {},
   "outputs": [
    {
     "name": "stdout",
     "output_type": "stream",
     "text": [
      "                 company_permalink  raised_amount_usd          name  \\\n",
      "0              /organization/-fame          10.000000         #fame   \n",
      "10            /organization/0xdata          20.000000        H2O.ai   \n",
      "11            /organization/0xdata           1.700000        H2O.ai   \n",
      "12            /organization/0xdata           8.900000        H2O.ai   \n",
      "22      /organization/1-mainstream           5.000000  1 Mainstream   \n",
      "...                            ...                ...           ...   \n",
      "114920    /organization/zyomyx-inc          12.000000        ZYOMYX   \n",
      "114922    /organization/zyomyx-inc          14.219999        ZYOMYX   \n",
      "114923    /organization/zyomyx-inc           0.555016        ZYOMYX   \n",
      "114934         /organization/zyrra           0.140500         Zyrra   \n",
      "114936        /organization/zystor           8.500000        Zystor   \n",
      "\n",
      "                           category_list country_code  \n",
      "0                                  Media          IND  \n",
      "10                             Analytics          USA  \n",
      "11                             Analytics          USA  \n",
      "12                             Analytics          USA  \n",
      "22      Apps|Cable|Distribution|Software          USA  \n",
      "...                                  ...          ...  \n",
      "114920                     Biotechnology          USA  \n",
      "114922                     Biotechnology          USA  \n",
      "114923                     Biotechnology          USA  \n",
      "114934                        E-Commerce          USA  \n",
      "114936                     Biotechnology          USA  \n",
      "\n",
      "[38803 rows x 5 columns]\n"
     ]
    }
   ],
   "source": [
    "#Retaining rows with only USA, GBR and IND country_codes. As SparksFunds wants to invest in only top three English speaking countries.\n",
    "master_frame = master_frame[(master_frame['country_code'] == 'USA')\n",
    "                            | (master_frame['country_code'] == 'GBR')\n",
    "                            | (master_frame['country_code'] == 'IND')]\n",
    "print (master_frame)\n"
   ]
  },
  {
   "cell_type": "code",
   "execution_count": 17,
   "metadata": {},
   "outputs": [
    {
     "name": "stdout",
     "output_type": "stream",
     "text": [
      "                 company_permalink  raised_amount_usd          name  \\\n",
      "0              /organization/-fame          10.000000         #fame   \n",
      "10            /organization/0xdata          20.000000        H2O.ai   \n",
      "11            /organization/0xdata           1.700000        H2O.ai   \n",
      "12            /organization/0xdata           8.900000        H2O.ai   \n",
      "22      /organization/1-mainstream           5.000000  1 Mainstream   \n",
      "...                            ...                ...           ...   \n",
      "114920    /organization/zyomyx-inc          12.000000        ZYOMYX   \n",
      "114922    /organization/zyomyx-inc          14.219999        ZYOMYX   \n",
      "114923    /organization/zyomyx-inc           0.555016        ZYOMYX   \n",
      "114934         /organization/zyrra           0.140500         Zyrra   \n",
      "114936        /organization/zystor           8.500000        Zystor   \n",
      "\n",
      "        category_list country_code  \n",
      "0               Media          IND  \n",
      "10          Analytics          USA  \n",
      "11          Analytics          USA  \n",
      "12          Analytics          USA  \n",
      "22               Apps          USA  \n",
      "...               ...          ...  \n",
      "114920  Biotechnology          USA  \n",
      "114922  Biotechnology          USA  \n",
      "114923  Biotechnology          USA  \n",
      "114934     E-Commerce          USA  \n",
      "114936  Biotechnology          USA  \n",
      "\n",
      "[38803 rows x 5 columns]\n"
     ]
    }
   ],
   "source": [
    "#subtask 4.1 : sector analysis\n",
    "\n",
    "#Extracting the primary vector value\n",
    "master_frame['category_list'] = master_frame['category_list'].apply(lambda x: x.split('|')[0])\n",
    "print (master_frame)\n"
   ]
  },
  {
   "cell_type": "code",
   "execution_count": 18,
   "metadata": {},
   "outputs": [
    {
     "name": "stdout",
     "output_type": "stream",
     "text": [
      "   category_list  Automotive & Sports  Blanks  Cleantech / Semiconductors  \\\n",
      "0            NaN                    0       1                           0   \n",
      "1             3D                    0       0                           0   \n",
      "2    3D Printing                    0       0                           0   \n",
      "3  3D Technology                    0       0                           0   \n",
      "4     Accounting                    0       0                           0   \n",
      "\n",
      "   Entertainment  Health  Manufacturing  News, Search and Messaging  Others  \\\n",
      "0              0       0              0                           0       0   \n",
      "1              0       0              1                           0       0   \n",
      "2              0       0              1                           0       0   \n",
      "3              0       0              1                           0       0   \n",
      "4              0       0              0                           0       0   \n",
      "\n",
      "   Social, Finance, Analytics, Advertising  \n",
      "0                                        0  \n",
      "1                                        0  \n",
      "2                                        0  \n",
      "3                                        0  \n",
      "4                                        1  \n"
     ]
    }
   ],
   "source": [
    "#now mapping each sector to its main sector\n",
    "\n",
    "#reading mapping.csv file and performing calculations on it\n",
    "\n",
    "mapping=pd.read_csv(r'C:\\Users\\rpatil\\Desktop\\python\\ML&AI_NOTES\\mapping.csv')\n",
    "mapping.category_list = mapping.category_list.replace({'0':'na', '2.na' :'2.0'}, regex=True)\n",
    "print (mapping.head())"
   ]
  },
  {
   "cell_type": "code",
   "execution_count": 19,
   "metadata": {},
   "outputs": [
    {
     "name": "stdout",
     "output_type": "stream",
     "text": [
      "         category_list    main_sector\n",
      "1                   3D  Manufacturing\n",
      "2          3D Printing  Manufacturing\n",
      "3        3D Technology  Manufacturing\n",
      "7   Advanced Materials  Manufacturing\n",
      "15         Agriculture  Manufacturing\n"
     ]
    }
   ],
   "source": [
    "#Reshaping the mapping dataframe to merge with the master_frame dataframe. Using melt() function to unpivot the table.\n",
    "mapping = pd.melt(mapping, id_vars =['category_list'], value_vars =['Manufacturing','Automotive & Sports',\n",
    "                                                              'Cleantech / Semiconductors','Entertainment',\n",
    "                                                             'Health','News, Search and Messaging','Others',\n",
    "                                                             'Social, Finance, Analytics, Advertising'])\n",
    "mapping = mapping[~(mapping.value == 0)]\n",
    "mapping = mapping.drop('value', axis = 1)\n",
    "mapping = mapping.rename(columns = {\"variable\":\"main_sector\"})\n",
    "print (mapping.head())"
   ]
  },
  {
   "cell_type": "code",
   "execution_count": 20,
   "metadata": {},
   "outputs": [
    {
     "name": "stdout",
     "output_type": "stream",
     "text": [
      "            company_permalink  raised_amount_usd          name category_list  \\\n",
      "0         /organization/-fame               10.0         #fame         Media   \n",
      "1        /organization/0xdata               20.0        H2O.ai     Analytics   \n",
      "2        /organization/0xdata                1.7        H2O.ai     Analytics   \n",
      "3        /organization/0xdata                8.9        H2O.ai     Analytics   \n",
      "4  /organization/1-mainstream                5.0  1 Mainstream          Apps   \n",
      "\n",
      "  country_code                              main_sector  \n",
      "0          IND                            Entertainment  \n",
      "1          USA  Social, Finance, Analytics, Advertising  \n",
      "2          USA  Social, Finance, Analytics, Advertising  \n",
      "3          USA  Social, Finance, Analytics, Advertising  \n",
      "4          USA               News, Search and Messaging  \n"
     ]
    }
   ],
   "source": [
    "master_frame = master_frame.merge(mapping, how = 'left', on ='category_list')\n",
    "print (master_frame.head())\n"
   ]
  },
  {
   "cell_type": "code",
   "execution_count": 21,
   "metadata": {},
   "outputs": [
    {
     "name": "stdout",
     "output_type": "stream",
     "text": [
      "['Nanotechnology' 'Natural Gas Uses' 'Natural Language Processing'\n",
      " 'Enterprise 2.0' 'Adaptive Equipment' 'Racing' 'Specialty Retail'\n",
      " 'Biotechnology and Semiconductor' 'Rapidly Expanding' 'Navigation'\n",
      " 'Product Search' 'GreenTech' 'Retirement']\n"
     ]
    }
   ],
   "source": [
    "#List of primary sectors which have no main sectors in the master_frame\n",
    "print(master_frame[master_frame.main_sector.isnull()].category_list.unique())"
   ]
  },
  {
   "cell_type": "code",
   "execution_count": 22,
   "metadata": {},
   "outputs": [
    {
     "name": "stdout",
     "output_type": "stream",
     "text": [
      "165\n"
     ]
    }
   ],
   "source": [
    "#Number of rows with NaN masin_sector value\n",
    "print (len(master_frame[master_frame.main_sector.isnull()]))"
   ]
  },
  {
   "cell_type": "code",
   "execution_count": 23,
   "metadata": {},
   "outputs": [
    {
     "name": "stdout",
     "output_type": "stream",
     "text": [
      "38638\n"
     ]
    }
   ],
   "source": [
    "#Retaining the rows which have main_sector values\n",
    "master_frame = master_frame[~(master_frame.main_sector.isnull())]\n",
    "print (len(master_frame.index))"
   ]
  },
  {
   "cell_type": "code",
   "execution_count": 28,
   "metadata": {},
   "outputs": [
    {
     "name": "stdout",
     "output_type": "stream",
     "text": [
      "                 company_permalink  raised_amount_usd               name  \\\n",
      "0             /organization/0xdata           8.900000             H2O.ai   \n",
      "1       /organization/1-mainstream           5.000000       1 Mainstream   \n",
      "2     /organization/128-technology          11.999347     128 Technology   \n",
      "3  /organization/1366-technologies          15.000000  1366 Technologies   \n",
      "4  /organization/1366-technologies           5.000000  1366 Technologies   \n",
      "\n",
      "       category_list country_code                              main_sector  \\\n",
      "0          Analytics          USA  Social, Finance, Analytics, Advertising   \n",
      "1               Apps          USA               News, Search and Messaging   \n",
      "2  Service Providers          USA                                   Others   \n",
      "3      Manufacturing          USA                            Manufacturing   \n",
      "4      Manufacturing          USA                            Manufacturing   \n",
      "\n",
      "   (raised_amount_usd, Total_amount)  (raised_amount_usd, Total_count)  \n",
      "0                       23807.376964                              2714  \n",
      "1                       13959.567428                              1582  \n",
      "2                       26321.007002                              2950  \n",
      "3                        7258.553378                               799  \n",
      "4                        7258.553378                               799  \n"
     ]
    }
   ],
   "source": [
    "#sector analysis 2 , creating threee frames D1 , D2, D3\n",
    "\n",
    "D1 = master_frame[(master_frame['country_code'] == 'USA') &\n",
    "             (master_frame['raised_amount_usd'] >= 5) &\n",
    "             (master_frame['raised_amount_usd'] <= 15)]\n",
    "D1_new = D1[['raised_amount_usd','main_sector']].groupby('main_sector').agg(['sum', 'count']).rename(\n",
    "    columns={'sum':'Total_amount','count' : 'Total_count'})\n",
    "D1 = D1.merge(D1_new, how='left', on ='main_sector')\n",
    "print (D1.head())"
   ]
  },
  {
   "cell_type": "code",
   "execution_count": 29,
   "metadata": {},
   "outputs": [
    {
     "name": "stdout",
     "output_type": "stream",
     "text": [
      "         company_permalink  raised_amount_usd       name     category_list  \\\n",
      "0  /organization/365scores           5.500000  365Scores           Android   \n",
      "1   /organization/7digital           8.468328   7digital  Content Creators   \n",
      "2   /organization/7digital          10.000000   7digital  Content Creators   \n",
      "3      /organization/90min          15.000000      90min             Media   \n",
      "4      /organization/90min           5.800000      90min             Media   \n",
      "\n",
      "  country_code                              main_sector  \\\n",
      "0          GBR  Social, Finance, Analytics, Advertising   \n",
      "1          GBR                            Entertainment   \n",
      "2          GBR                            Entertainment   \n",
      "3          GBR                            Entertainment   \n",
      "4          GBR                            Entertainment   \n",
      "\n",
      "   (raised_amount_usd, Total_amount)  (raised_amount_usd, Total_count)  \n",
      "0                        1089.404014                               133  \n",
      "1                         482.784687                                56  \n",
      "2                         482.784687                                56  \n",
      "3                         482.784687                                56  \n",
      "4                         482.784687                                56  \n"
     ]
    }
   ],
   "source": [
    "D2 = master_frame[(master_frame['country_code'] == 'GBR') &\n",
    "             (master_frame['raised_amount_usd'] >= 5) &\n",
    "             (master_frame['raised_amount_usd'] <= 15)]\n",
    "D2_new = D2[['raised_amount_usd','main_sector']].groupby('main_sector').agg(['sum', 'count']).rename(\n",
    "    columns={'sum':'Total_amount','count' : 'Total_count'})\n",
    "D2 = D2.merge(D2_new, how='left', on ='main_sector')\n",
    "print (D2.head())"
   ]
  },
  {
   "cell_type": "code",
   "execution_count": 30,
   "metadata": {},
   "outputs": [
    {
     "name": "stdout",
     "output_type": "stream",
     "text": [
      "                company_permalink  raised_amount_usd            name  \\\n",
      "0             /organization/-fame          10.000000           #fame   \n",
      "1  /organization/21diamonds-india           6.369507      21Diamonds   \n",
      "2    /organization/a-little-world           6.410000  A LITTLE WORLD   \n",
      "3    /organization/adlabs-imagica           8.180000  Adlabs Imagica   \n",
      "4             /organization/agile           5.740000           Agile   \n",
      "\n",
      "   category_list country_code                              main_sector  \\\n",
      "0          Media          IND                            Entertainment   \n",
      "1     E-Commerce          IND                                   Others   \n",
      "2        Finance          IND  Social, Finance, Analytics, Advertising   \n",
      "3  Entertainment          IND                            Entertainment   \n",
      "4        Finance          IND  Social, Finance, Analytics, Advertising   \n",
      "\n",
      "   (raised_amount_usd, Total_amount)  (raised_amount_usd, Total_count)  \n",
      "0                         280.830000                                33  \n",
      "1                        1013.409507                               110  \n",
      "2                         550.549550                                60  \n",
      "3                         280.830000                                33  \n",
      "4                         550.549550                                60  \n"
     ]
    }
   ],
   "source": [
    "D3 = master_frame[(master_frame['country_code'] == 'IND') &\n",
    "             (master_frame['raised_amount_usd'] >= 5) &\n",
    "             (master_frame['raised_amount_usd'] <= 15)]\n",
    "D3_new = D3[['raised_amount_usd','main_sector']].groupby('main_sector').agg(['sum', 'count']).rename(\n",
    "    columns={'sum':'Total_amount','count' : 'Total_count'})\n",
    "D3 = D3.merge(D3_new, how='left', on ='main_sector')\n",
    "print (D3.head())"
   ]
  },
  {
   "cell_type": "code",
   "execution_count": 27,
   "metadata": {},
   "outputs": [
    {
     "name": "stdout",
     "output_type": "stream",
     "text": [
      "12012\n",
      "619\n",
      "328\n"
     ]
    }
   ],
   "source": [
    "#Total number of investments (count)\n",
    "print(D1.raised_amount_usd.count())\n",
    "print(D2.raised_amount_usd.count())\n",
    "print(D3.raised_amount_usd.count())\n"
   ]
  },
  {
   "cell_type": "code",
   "execution_count": 31,
   "metadata": {},
   "outputs": [
    {
     "name": "stdout",
     "output_type": "stream",
     "text": [
      "107318.29\n",
      "5365.23\n",
      "2949.54\n"
     ]
    }
   ],
   "source": [
    "#Total amount of investment (USD)\n",
    "print(round(D1.raised_amount_usd.sum(), 2))\n",
    "print(round(D2.raised_amount_usd.sum(), 2))\n",
    "print(round(D3.raised_amount_usd.sum(), 2))"
   ]
  },
  {
   "cell_type": "code",
   "execution_count": 48,
   "metadata": {},
   "outputs": [
    {
     "name": "stdout",
     "output_type": "stream",
     "text": [
      "                                        raised_amount_usd            \n",
      "                                             Total_amount Total_count\n",
      "main_sector                                                          \n",
      "Social, Finance, Analytics, Advertising      23807.376964        2714\n",
      "Others                                       26321.007002        2950\n",
      "News, Search and Messaging                   13959.567428        1582\n",
      "Manufacturing                                 7258.553378         799\n",
      "Health                                        8211.859357         909\n"
     ]
    }
   ],
   "source": [
    "#Top sector, second-top, third-top for D1 (based on count of investments)\n",
    "#Number of investments in the top, second-top, third-top sector in D1\n",
    "D1_new=D1_new.sort_values('main_sector',ascending = False)\n",
    "print (D1_new.head())\n"
   ]
  },
  {
   "cell_type": "code",
   "execution_count": 47,
   "metadata": {},
   "outputs": [
    {
     "name": "stdout",
     "output_type": "stream",
     "text": [
      "                                        raised_amount_usd            \n",
      "                                             Total_amount Total_count\n",
      "main_sector                                                          \n",
      "Social, Finance, Analytics, Advertising       1089.404014         133\n",
      "Others                                        1283.624289         147\n",
      "News, Search and Messaging                     615.746235          73\n",
      "Manufacturing                                  361.940335          42\n",
      "Health                                         214.537510          24\n"
     ]
    }
   ],
   "source": [
    "#Top sector, second-top, third-top for D2 (based on count of investments)\n",
    "#Number of investments in the top, second-top, third-top sector in D2\n",
    "D2_new=D2_new.sort_values('main_sector',ascending = False)\n",
    "print (D2_new.head())"
   ]
  },
  {
   "cell_type": "code",
   "execution_count": 46,
   "metadata": {},
   "outputs": [
    {
     "name": "stdout",
     "output_type": "stream",
     "text": [
      "                                        raised_amount_usd            \n",
      "                                             Total_amount Total_count\n",
      "main_sector                                                          \n",
      "Social, Finance, Analytics, Advertising        550.549550          60\n",
      "Others                                        1013.409507         110\n",
      "News, Search and Messaging                     433.834545          52\n",
      "Manufacturing                                  200.900000          21\n",
      "Health                                         167.740000          19\n"
     ]
    }
   ],
   "source": [
    "#Top sector, second-top, third-top for D3 (based on count of investments)\n",
    "#Number of investments in the top, second-top, third-top sector in D3\n",
    "D3_new=D3_new.sort_values('main_sector',ascending = False)\n",
    "print (D3_new.head())\n"
   ]
  },
  {
   "cell_type": "code",
   "execution_count": 49,
   "metadata": {},
   "outputs": [
    {
     "name": "stdout",
     "output_type": "stream",
     "text": [
      "                           raised_amount_usd\n",
      "company_permalink                           \n",
      "/organization/shotspotter          67.933006\n"
     ]
    }
   ],
   "source": [
    "#For the top sector USA , which company received the highest investment?\n",
    "company = D1[D1['main_sector']=='Social, Finance, Analytics, Advertising']\n",
    "company = company.pivot_table(values = 'raised_amount_usd', index = 'company_permalink', aggfunc = 'sum')\n",
    "company = company.sort_values(by = 'raised_amount_usd', ascending = False).head()\n",
    "print(company.head(1))"
   ]
  },
  {
   "cell_type": "code",
   "execution_count": 50,
   "metadata": {},
   "outputs": [
    {
     "name": "stdout",
     "output_type": "stream",
     "text": [
      "                           raised_amount_usd\n",
      "company_permalink                           \n",
      "/organization/virtustream               64.3\n"
     ]
    }
   ],
   "source": [
    "#For the second top sector USA , which company received the highest investment?\n",
    "company = D1[D1['main_sector']=='Others']\n",
    "company = company.pivot_table(values = 'raised_amount_usd', index = 'company_permalink', aggfunc = 'sum')\n",
    "company = company.sort_values(by = 'raised_amount_usd', ascending = False).head()\n",
    "print(company.head(1))"
   ]
  },
  {
   "cell_type": "code",
   "execution_count": 51,
   "metadata": {},
   "outputs": [
    {
     "name": "stdout",
     "output_type": "stream",
     "text": [
      "                                raised_amount_usd\n",
      "company_permalink                                \n",
      "/organization/airspan-networks             81.769\n"
     ]
    }
   ],
   "source": [
    "#For the third top sector USA , which company received the highest investment?\n",
    "company = D1[D1['main_sector']=='News, Search and Messaging']\n",
    "company = company.pivot_table(values = 'raised_amount_usd', index = 'company_permalink', aggfunc = 'sum')\n",
    "company = company.sort_values(by = 'raised_amount_usd', ascending = False).head()\n",
    "print(company.head(1))"
   ]
  },
  {
   "cell_type": "code",
   "execution_count": 53,
   "metadata": {},
   "outputs": [
    {
     "name": "stdout",
     "output_type": "stream",
     "text": [
      "                                     raised_amount_usd\n",
      "company_permalink                                     \n",
      "/organization/celltick-technologies               37.5\n"
     ]
    }
   ],
   "source": [
    "#For the top sector GBR , which company received the highest investment?\n",
    "company = D2[D2['main_sector']=='Social, Finance, Analytics, Advertising']\n",
    "company = company.pivot_table(values = 'raised_amount_usd', index = 'company_permalink', aggfunc = 'sum')\n",
    "company = company.sort_values(by = 'raised_amount_usd', ascending = False).head()\n",
    "print(company.head(1))"
   ]
  },
  {
   "cell_type": "code",
   "execution_count": 52,
   "metadata": {},
   "outputs": [
    {
     "name": "stdout",
     "output_type": "stream",
     "text": [
      "                              raised_amount_usd\n",
      "company_permalink                              \n",
      "/organization/electric-cloud               37.0\n"
     ]
    }
   ],
   "source": [
    "#For the second top sector GBR , which company received the highest investment?\n",
    "company = D2[D2['main_sector']=='Others']\n",
    "company = company.pivot_table(values = 'raised_amount_usd', index = 'company_permalink', aggfunc = 'sum')\n",
    "company = company.sort_values(by = 'raised_amount_usd', ascending = False).head()\n",
    "print(company.head(1))"
   ]
  },
  {
   "cell_type": "code",
   "execution_count": 54,
   "metadata": {},
   "outputs": [
    {
     "name": "stdout",
     "output_type": "stream",
     "text": [
      "                         raised_amount_usd\n",
      "company_permalink                         \n",
      "/organization/ubiquisys               37.0\n"
     ]
    }
   ],
   "source": [
    "#For the third top sector GBR , which company received the highest investment?\n",
    "company = D2[D2['main_sector']=='News, Search and Messaging']\n",
    "company = company.pivot_table(values = 'raised_amount_usd', index = 'company_permalink', aggfunc = 'sum')\n",
    "company = company.sort_values(by = 'raised_amount_usd', ascending = False).head()\n",
    "print(company.head(1))"
   ]
  },
  {
   "cell_type": "code",
   "execution_count": 57,
   "metadata": {},
   "outputs": [
    {
     "name": "stdout",
     "output_type": "stream",
     "text": [
      "                               raised_amount_usd\n",
      "company_permalink                               \n",
      "/organization/manthan-systems               50.7\n"
     ]
    }
   ],
   "source": [
    "#For the top sector IND , which company received the highest investment?\n",
    "company = D3[D3['main_sector']=='Social, Finance, Analytics, Advertising']\n",
    "company = company.pivot_table(values = 'raised_amount_usd', index = 'company_permalink', aggfunc = 'sum')\n",
    "company = company.sort_values(by = 'raised_amount_usd', ascending = False).head()\n",
    "print(company.head(1))"
   ]
  },
  {
   "cell_type": "code",
   "execution_count": 56,
   "metadata": {},
   "outputs": [
    {
     "name": "stdout",
     "output_type": "stream",
     "text": [
      "                            raised_amount_usd\n",
      "company_permalink                            \n",
      "/organization/firstcry-com               39.0\n"
     ]
    }
   ],
   "source": [
    "#For the second top sector IND , which company received the highest investment?\n",
    "company = D3[D3['main_sector']=='Others']\n",
    "company = company.pivot_table(values = 'raised_amount_usd', index = 'company_permalink', aggfunc = 'sum')\n",
    "company = company.sort_values(by = 'raised_amount_usd', ascending = False).head()\n",
    "print(company.head(1))\n"
   ]
  },
  {
   "cell_type": "code",
   "execution_count": 58,
   "metadata": {},
   "outputs": [
    {
     "name": "stdout",
     "output_type": "stream",
     "text": [
      "                                                raised_amount_usd\n",
      "company_permalink                                                \n",
      "/organization/gupshup-technology-india-pvt-ltd               33.0\n"
     ]
    }
   ],
   "source": [
    "#For the third top sector IND , which company received the highest investment?\n",
    "company = D3[D3['main_sector']=='News, Search and Messaging']\n",
    "company = company.pivot_table(values = 'raised_amount_usd', index = 'company_permalink', aggfunc = 'sum')\n",
    "company = company.sort_values(by = 'raised_amount_usd', ascending = False).head()\n",
    "print(company.head(1))"
   ]
  },
  {
   "cell_type": "code",
   "execution_count": 60,
   "metadata": {},
   "outputs": [],
   "source": [
    "import matplotlib.pyplot as plt\n",
    "\n",
    "# the commonly used alias for seaborn is sns\n",
    "import seaborn as sns\n",
    "\n",
    "# set a seaborn style of your taste\n",
    "sns.set_style(\"whitegrid\")"
   ]
  },
  {
   "cell_type": "code",
   "execution_count": 76,
   "metadata": {
    "scrolled": true
   },
   "outputs": [
    {
     "data": {
      "image/png": "[encoded data removed]",
      "text/plain": [
       "<Figure size 864x432 with 2 Axes>"
      ]
     },
     "metadata": {},
     "output_type": "display_data"
    }
   ],
   "source": [
    "plt.figure(figsize=(12, 6))\n",
    "plt.subplot(1, 2, 1)\n",
    "sns.countplot(x=\"funding_round_type\", data=master_frame)\n",
    "plt.title(\"Number  of Investments\")\n",
    "plt.subplot(1, 2, 2)\n",
    "sns.barplot(y='raised_amount_usd', x=\"funding_round_type\", data=master_frame, estimator=np.mean)\n",
    "plt.title(\"Average of funding type versus amount raised\")\n",
    "plt.axhline(y=5, linewidth=2, color = 'g')\n",
    "plt.axhline(y=25, linewidth=2, color = 'g')\n",
    "plt.show()"
   ]
  }
 ],
 "metadata": {
  "kernelspec": {
   "display_name": "Python 3",
   "language": "python",
   "name": "python3"
  },
  "language_info": {
   "codemirror_mode": {
    "name": "ipython",
    "version": 3
   },
   "file_extension": ".py",
   "mimetype": "text/x-python",
   "name": "python",
   "nbconvert_exporter": "python",
   "pygments_lexer": "ipython3",
   "version": "3.7.5"
  }
 },
 "nbformat": 4,
 "nbformat_minor": 2
}
